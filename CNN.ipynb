{
 "cells": [
  {
   "cell_type": "code",
   "execution_count": 1,
   "metadata": {},
   "outputs": [],
   "source": [
    "# !pip install emoji\n",
    "from argparse import Namespace\n",
    "from collections import Counter\n",
    "import json\n",
    "import os\n",
    "import numpy as np\n",
    "import pandas as pd\n",
    "import emoji\n",
    "import regex as re\n",
    "import string \n",
    "from nltk.corpus import stopwords\n",
    "from nltk.stem import PorterStemmer, WordNetLemmatizer\n",
    "from nltk.corpus import wordnet\n",
    "from transformers import BertModel\n",
    "import torch\n",
    "import torch.nn as nn\n",
    "import torch.nn.functional as F\n",
    "import torch.optim as optim\n",
    "from torch.utils.data import Dataset, DataLoader\n",
    "from tqdm.notebook import tqdm\n",
    "stemmer = PorterStemmer()\n",
    "lemmatizer = WordNetLemmatizer()\n",
    "# Read the CSV file into a DataFrame"
   ]
  },
  {
   "cell_type": "code",
   "execution_count": 3,
   "metadata": {},
   "outputs": [
    {
     "data": {
      "text/plain": [
       "([<matplotlib.axis.XTick at 0x7ffdd99e1518>,\n",
       "  <matplotlib.axis.XTick at 0x7ffdd99c2e10>,\n",
       "  <matplotlib.axis.XTick at 0x7ffdd99c2b70>],\n",
       " <a list of 3 Text xticklabel objects>)"
      ]
     },
     "execution_count": 3,
     "metadata": {},
     "output_type": "execute_result"
    },
    {
     "data": {
      "image/png": "[encoded data removed]",
      "text/plain": [
       "<Figure size 432x288 with 1 Axes>"
      ]
     },
     "metadata": {
      "needs_background": "light"
     },
     "output_type": "display_data"
    }
   ],
   "source": [
    "%matplotlib inline\n",
    "import matplotlib.pyplot as plt\n",
    "\n",
    "df = pd.read_csv(\"data/yelp/good_bad_with_splits_full.csv\")\n",
    "spl = df.groupby('split', sort=False).count()\n",
    "spl_x = spl._stat_axis.values.tolist()\n",
    "spl_y = spl.iloc[:, 0].values.tolist()\n",
    "\n",
    "plt.bar(x=spl_x, height=spl_y, color=['#63b2ee', '#76da91', '#f8cb7f'], alpha=0.8)\n",
    "for x, y in enumerate(spl_y):\n",
    "    plt.text(x, y, '%s' % y, ha='center', va='bottom')\n",
    "plt.title(\"Number of tweets by split\")\n",
    "plt.xlabel(\"split\")\n",
    "plt.ylabel(\"count\")\n",
    "plt.xticks(np.arange(3), ['train', 'val', 'test'])"
   ]
  },
  {
   "cell_type": "code",
   "execution_count": 4,
   "metadata": {},
   "outputs": [
    {
     "data": {
      "text/plain": [
       "([<matplotlib.axis.XTick at 0x7ffdd9a0ef28>,\n",
       "  <matplotlib.axis.XTick at 0x7ffdd9a0e9b0>],\n",
       " <a list of 2 Text xticklabel objects>)"
      ]
     },
     "execution_count": 4,
     "metadata": {},
     "output_type": "execute_result"
    },
    {
     "data": {
      "image/png": "[encoded data removed]",
      "text/plain": [
       "<Figure size 432x288 with 1 Axes>"
      ]
     },
     "metadata": {
      "needs_background": "light"
     },
     "output_type": "display_data"
    }
   ],
   "source": [
    "tgt = df.groupby('labels', sort=False).count()\n",
    "tgt_x = tgt._stat_axis.values.tolist()\n",
    "tgt_y = tgt.iloc[:, 0].values.tolist()\n",
    "\n",
    "plt.bar(x=tgt_x, height=tgt_y, color=['#63b2ee', '#76da91'], alpha=0.8)\n",
    "for x, y in enumerate(tgt_y):\n",
    "    plt.text(x, y, '%s' % y, ha='center', va='bottom')\n",
    "plt.title(\"Number of tweets by labels\")\n",
    "plt.xlabel(\"target\")\n",
    "plt.ylabel(\"count\")\n",
    "plt.xticks(np.arange(2), ['good', 'bad'])"
   ]
  },
  {
   "cell_type": "markdown",
   "metadata": {},
   "source": [
    "### The Vocabulary"
   ]
  },
  {
   "cell_type": "code",
   "execution_count": 5,
   "metadata": {},
   "outputs": [],
   "source": [
    "class Vocabulary(object):\n",
    "    \"\"\"Class to process text and extract vocabulary for mapping\"\"\"\n",
    "\n",
    "    def __init__(self, token_to_idx=None):\n",
    "        \"\"\"\n",
    "        Args:\n",
    "            token_to_idx (dict): a pre-existing map of tokens to indices\n",
    "        \"\"\"\n",
    "\n",
    "        # review_vocab._token_to_idx: {'<MASK>': 0, '<UNK>': 1, '<BEGIN>': 2, '<END>': 3, 'jobs': 4, 'tax': 5, 'cuts': 6,  \n",
    "        #                             ......, 'shiite': 3407, 'ghraib': 3408}\n",
    "        # rating_vocab._token_to_idx: {'Business': 0, 'Sci/Tech': 1, 'Sports': 2, 'World': 3}\n",
    "        \n",
    "        if token_to_idx is None:\n",
    "            token_to_idx = {}\n",
    "        self._token_to_idx = token_to_idx\n",
    "\n",
    "        self._idx_to_token = {idx: token \n",
    "                              for token, idx in self._token_to_idx.items()}\n",
    "        \n",
    "    def add_token(self, token):\n",
    "        \"\"\"Update mapping dicts based on the token.\n",
    "\n",
    "        Args:\n",
    "            token (str): the item to add into the Vocabulary\n",
    "        Returns:\n",
    "            index (int): the integer corresponding to the token\n",
    "        \"\"\"\n",
    "        if token in self._token_to_idx:\n",
    "            index = self._token_to_idx[token]\n",
    "        else:\n",
    "            index = len(self._token_to_idx)\n",
    "            self._token_to_idx[token] = index\n",
    "            self._idx_to_token[index] = token\n",
    "        return index\n",
    "            \n",
    "    def lookup_token(self, token):\n",
    "        \"\"\"Retrieve the index associated with the token \n",
    "        \n",
    "        Args:\n",
    "            token (str): the token to look up \n",
    "        Returns:\n",
    "            index (int): the index corresponding to the token\n",
    "        \"\"\"\n",
    "        return self._token_to_idx[token]\n",
    "\n",
    "    def lookup_index(self, index):\n",
    "        \"\"\"Return the token associated with the index\n",
    "        \n",
    "        Args: \n",
    "            index (int): the index to look up\n",
    "        Returns:\n",
    "            token (str): the token corresponding to the index\n",
    "        Raises:\n",
    "            KeyError: if the index is not in the Vocabulary\n",
    "        \"\"\"\n",
    "        if index not in self._idx_to_token:\n",
    "            raise KeyError(\"the index (%d) is not in the Vocabulary\" % index)\n",
    "        return self._idx_to_token[index]\n",
    "\n",
    "    def __str__(self):\n",
    "        return \"<Vocabulary(size=%d)>\" % len(self)\n",
    "\n",
    "    def __len__(self):\n",
    "        return len(self._token_to_idx)"
   ]
  },
  {
   "cell_type": "code",
   "execution_count": 6,
   "metadata": {},
   "outputs": [],
   "source": [
    "class SequenceVocabulary(Vocabulary):\n",
    "    def __init__(self, token_to_idx=None, unk_token=\"<UNK>\",\n",
    "                 mask_token=\"<MASK>\", begin_seq_token=\"<BEGIN>\",\n",
    "                 end_seq_token=\"<END>\"):\n",
    "\n",
    "        super(SequenceVocabulary, self).__init__(token_to_idx)\n",
    "\n",
    "        self._mask_token = mask_token             # for paddding, e.g., Wall St. Bears Claw Back Into the Black (Reuters)\n",
    "                                                  #               -> [2, 5, 6, 10, 10, 8, 7, 9, 19, ......., 3, 0, 0, 0, ..., 0]\n",
    "        self._unk_token = unk_token\n",
    "        self._begin_seq_token = begin_seq_token\n",
    "        self._end_seq_token = end_seq_token\n",
    "\n",
    "        self.mask_index = self.add_token(self._mask_token)            # mask_index is 0\n",
    "        self.unk_index = self.add_token(self._unk_token)              # unk_index is 1\n",
    "        self.begin_seq_index = self.add_token(self._begin_seq_token)  # begin_seq_index is 2\n",
    "        self.end_seq_index = self.add_token(self._end_seq_token)      # end_seq_index is 3\n",
    "\n",
    "    def lookup_token(self, token):\n",
    "        \"\"\"Retrieve the index associated with the token \n",
    "          or the UNK index if token isn't present.\n",
    "        \n",
    "        Args:\n",
    "            token (str): the token to look up \n",
    "        Returns:\n",
    "            index (int): the index corresponding to the token\n",
    "        Notes:\n",
    "            `unk_index` needs to be >=0 (having been added into the Vocabulary) \n",
    "              for the UNK functionality \n",
    "        \"\"\"\n",
    "        if self.unk_index >= 0:\n",
    "            return self._token_to_idx.get(token, self.unk_index)\n",
    "        else:\n",
    "            return self._token_to_idx[token]"
   ]
  },
  {
   "cell_type": "markdown",
   "metadata": {},
   "source": [
    "### The Vectorizer"
   ]
  },
  {
   "cell_type": "code",
   "execution_count": 7,
   "metadata": {},
   "outputs": [],
   "source": [
    "class NewsVectorizer(object):\n",
    "    \"\"\" The Vectorizer which coordinates the Vocabularies and puts them to use\"\"\"    \n",
    "    def __init__(self, review_vocab, rating_vocab):\n",
    "        self.review_vocab = review_vocab\n",
    "        self.rating_vocab = rating_vocab\n",
    "\n",
    "    def vectorize(self, review, vector_length=-1):\n",
    "        \"\"\"\n",
    "        Args:\n",
    "            review (str): the string of words separated by a space\n",
    "            vector_length (int): an argument for forcing the length of index vector\n",
    "        Returns:\n",
    "            the vetorized review (numpy.array)\n",
    "        \"\"\"\n",
    "        \"\"\"    \n",
    "        mask_index is 0\n",
    "        unk_index is 1\n",
    "        begin_seq_index is 2\n",
    "        end_seq_index is 3\n",
    "        \n",
    "        When review is \"Wall St. Bears Claw Back Into the Black (Reuters)\"; max vector length is 29 in current dataset \n",
    "        \n",
    "        out_vector = [2, 5, 6, 10, 10, 8, 7, 9, 19, ......., 3, 0, 0, 0, ..., 0]\n",
    "        \n",
    "        \"\"\"\n",
    "        \n",
    "        indices = [self.review_vocab.begin_seq_index]\n",
    "        indices.extend(self.review_vocab.lookup_token(token) \n",
    "                       for token in review.split(\" \"))\n",
    "        indices.append(self.review_vocab.end_seq_index)\n",
    "\n",
    "        if vector_length < 0:\n",
    "            vector_length = len(indices)\n",
    "\n",
    "        out_vector = np.zeros(vector_length, dtype=np.int64)\n",
    "        out_vector[:len(indices)] = indices\n",
    "        out_vector[len(indices):] = self.review_vocab.mask_index\n",
    "\n",
    "        return out_vector\n",
    "\n",
    "    @classmethod\n",
    "    def from_dataframe(cls, news_df, cutoff=25):\n",
    "        \"\"\"Instantiate the vectorizer from the dataset dataframe\n",
    "        \n",
    "        Args:\n",
    "            news_df (pandas.DataFrame): the target dataset\n",
    "            cutoff (int): frequency threshold for including in Vocabulary \n",
    "        Returns:\n",
    "            an instance of the NewsVectorizer\n",
    "        \"\"\"\n",
    "        rating_vocab = Vocabulary()        \n",
    "        for rating in sorted(set(news_df.labels)):\n",
    "            rating_vocab.add_token(rating)\n",
    "\n",
    "        word_counts = Counter()\n",
    "        for review in news_df.review:\n",
    "            for token in review.split(\" \"):\n",
    "                if token not in string.punctuation:\n",
    "                    word_counts[token] += 1\n",
    "        \n",
    "        review_vocab = SequenceVocabulary()\n",
    "        for word, word_count in word_counts.items():\n",
    "            if word_count >= cutoff:\n",
    "                review_vocab.add_token(word)\n",
    "        \n",
    "        return cls(review_vocab, rating_vocab)"
   ]
  },
  {
   "cell_type": "markdown",
   "metadata": {},
   "source": [
    "### The Dataset"
   ]
  },
  {
   "cell_type": "code",
   "execution_count": 8,
   "metadata": {},
   "outputs": [],
   "source": [
    "class NewsDataset(Dataset):\n",
    "    def __init__(self, news_df, vectorizer):\n",
    "        \"\"\"\n",
    "        Args:\n",
    "            news_df (pandas.DataFrame): the dataset\n",
    "            vectorizer (NewsVectorizer): vectorizer instatiated from dataset\n",
    "        \"\"\"\n",
    "        self.news_df = news_df\n",
    "        self._vectorizer = vectorizer\n",
    "\n",
    "        # +1 if only using begin_seq, +2 if using both begin and end seq tokens\n",
    "        measure_len = lambda context: len(context.split(\" \"))\n",
    "        self._max_seq_length = max(map(measure_len, news_df.review)) + 2\n",
    "        \n",
    "\n",
    "        self.train_df = self.news_df[self.news_df.split=='train']\n",
    "        self.train_size = len(self.train_df)\n",
    "\n",
    "        self.val_df = self.news_df[self.news_df.split=='val']\n",
    "        self.validation_size = len(self.val_df)\n",
    "\n",
    "        self.test_df = self.news_df[self.news_df.split=='test']\n",
    "        self.test_size = len(self.test_df)\n",
    "\n",
    "        self._lookup_dict = {'train': (self.train_df, self.train_size),\n",
    "                             'val': (self.val_df, self.validation_size),\n",
    "                             'test': (self.test_df, self.test_size)}\n",
    "\n",
    "        self.set_split('train')\n",
    "\n",
    "        # Class weights\n",
    "        class_counts = news_df.labels.value_counts().to_dict()\n",
    "        def sort_key(item):\n",
    "            return self._vectorizer.rating_vocab.lookup_token(item[0])\n",
    "        sorted_counts = sorted(class_counts.items(), key=sort_key)\n",
    "        frequencies = [count for _, count in sorted_counts]\n",
    "        self.class_weights = 1.0 / torch.tensor(frequencies, dtype=torch.float32)\n",
    "        \n",
    "        \n",
    "    @classmethod\n",
    "    def load_dataset_and_make_vectorizer(cls, news_csv):\n",
    "        \"\"\"Load dataset and make a new vectorizer from scratch\n",
    "        \n",
    "        Args:\n",
    "            surname_csv (str): location of the dataset\n",
    "        Returns:\n",
    "            an instance of SurnameDataset\n",
    "        \"\"\"\n",
    "        news_df = pd.read_csv(news_csv)\n",
    "        train_news_df = news_df[news_df.split=='train']\n",
    "        return cls(news_df, NewsVectorizer.from_dataframe(train_news_df))\n",
    "\n",
    "    def get_vectorizer(self):\n",
    "        \"\"\" returns the vectorizer \"\"\"\n",
    "        return self._vectorizer\n",
    "\n",
    "    def set_split(self, split=\"train\"):\n",
    "        \"\"\" selects the splits in the dataset using a column in the dataframe \"\"\"\n",
    "        self._target_split = split\n",
    "        self._target_df, self._target_size = self._lookup_dict[split]\n",
    "\n",
    "    def __len__(self):\n",
    "        return self._target_size\n",
    "\n",
    "    def __getitem__(self, index):\n",
    "        \"\"\"the primary entry point method for PyTorch datasets\n",
    "        \n",
    "        Args:\n",
    "            index (int): the index to the data point \n",
    "        Returns:\n",
    "            a dictionary holding the data point's features (x_data) and label (y_target)\n",
    "        \"\"\"\n",
    "        row = self._target_df.iloc[index]\n",
    "\n",
    "        review_vector = \\\n",
    "            self._vectorizer.vectorize(row.review, self._max_seq_length)\n",
    "\n",
    "        rating_index = \\\n",
    "            self._vectorizer.rating_vocab.lookup_token(row.labels)\n",
    "\n",
    "        return {'x_data': review_vector,     # e.g., \"Wall St. Bears Claw Back Into the Black (Reuters)\" \n",
    "                                            # -> [2, 5, 6, 10, 10, 8, 7, 9, 19, ......., 3, 0, 0, 0, ..., 0]\n",
    "                'y_target': rating_index} # e.g., 2\n",
    "\n",
    "    def get_num_batches(self, batch_size):\n",
    "        \"\"\"Given a batch size, return the number of batches in the dataset\n",
    "        \n",
    "        Args:\n",
    "            batch_size (int)\n",
    "        Returns:\n",
    "            number of batches in the dataset\n",
    "        \"\"\"\n",
    "        return len(self) // batch_size\n",
    "\n",
    "def generate_batches(dataset, batch_size, shuffle=True,\n",
    "                     drop_last=True, device=\"cpu\"): \n",
    "    \"\"\"\n",
    "    A generator function which wraps the PyTorch DataLoader. It will \n",
    "      ensure each tensor is on the write device location.\n",
    "    \"\"\"\n",
    "    dataloader = DataLoader(dataset=dataset, batch_size=batch_size,\n",
    "                            shuffle=shuffle, drop_last=drop_last)\n",
    "\n",
    "    for data_dict in dataloader:\n",
    "        out_data_dict = {}\n",
    "        for name, tensor in data_dict.items():\n",
    "            out_data_dict[name] = data_dict[name].to(device)\n",
    "        yield out_data_dict"
   ]
  },
  {
   "cell_type": "markdown",
   "metadata": {},
   "source": [
    "## The Model: "
   ]
  },
  {
   "cell_type": "code",
   "execution_count": 9,
   "metadata": {},
   "outputs": [],
   "source": [
    "class NewsClassifier(nn.Module):\n",
    "    def __init__(self, embedding_size, num_embeddings, num_channels, \n",
    "                 hidden_dim, num_classes, dropout_p, \n",
    "                 pretrained_embeddings=None, padding_idx=0):\n",
    "        \"\"\"\n",
    "        Args:\n",
    "            embedding_size (int): size of the embedding vectors\n",
    "            num_embeddings (int): number of embedding vectors\n",
    "            filter_width (int): width of the convolutional kernels\n",
    "            num_channels (int): number of convolutional kernels per layer\n",
    "            hidden_dim (int): the size of the hidden dimension\n",
    "            num_classes (int): the number of classes in classification\n",
    "            dropout_p (float): a dropout parameter \n",
    "            pretrained_embeddings (numpy.array): previously trained word embeddings\n",
    "                default is None. If provided, \n",
    "            padding_idx (int): an index representing a null position\n",
    "        \"\"\"\n",
    "        super(NewsClassifier, self).__init__()\n",
    "\n",
    "        if pretrained_embeddings is None:\n",
    "            self.emb = nn.Embedding(embedding_dim=embedding_size,   # 100\n",
    "                                    num_embeddings=num_embeddings,  # 3409\n",
    "                                    padding_idx=padding_idx)        \n",
    "        else:\n",
    "            pretrained_embeddings = torch.from_numpy(pretrained_embeddings).float()\n",
    "            self.emb = nn.Embedding.from_pretrained(pretrained_embeddings) # when freeze=True (default), \n",
    "                                                                           # the tensor does not get updated in the learning process.\n",
    "               \n",
    "        # in_channels: embedding_size; out_channels: # of filters; kernel_size = n-gram size\n",
    "        # number of parameters: (# of filters, embedding_size, n-gram size), (100, 100, 2) for 2-gram\n",
    "        self.conv1d_4gram = nn.Conv1d(in_channels=embedding_size, out_channels=num_channels, kernel_size=4)       \n",
    "        self.conv1d_3gram = nn.Conv1d(in_channels=embedding_size, out_channels=num_channels, kernel_size=3)                          \n",
    "        self.conv1d_2gram = nn.Conv1d(in_channels=embedding_size, out_channels=num_channels, kernel_size=2)                   \n",
    "\n",
    "        self._dropout_p = dropout_p\n",
    "        self.fc1 = nn.Linear(num_channels*3, hidden_dim) # input:concatination of conv1d_4gram, conv1d_3gram, conv1d_2gram outputs \n",
    "        self.fc2 = nn.Linear(hidden_dim, num_classes)\n",
    "\n",
    "    def forward(self, x_in, apply_softmax=False):\n",
    "        \"\"\"The forward pass of the classifier\n",
    "        \n",
    "        Args:\n",
    "            x_in (torch.Tensor): an input data tensor. \n",
    "                x_in.shape should be (batch, dataset._max_seq_length)\n",
    "            apply_softmax (bool): a flag for the softmax activation\n",
    "                should be false if used with the Cross Entropy losses\n",
    "        Returns:\n",
    "            the resulting tensor. tensor.shape should be (batch, num_classes)\n",
    "        \"\"\"\n",
    "        \n",
    "        # embed and permute so features are channels\n",
    "        x_embedded = self.emb(x_in).permute(0, 2, 1)    # (batch, seq_len) -> (batch, seq_len, features)\n",
    "                                                        # rearange (batch, seq_len, features) to (batch, features, seq_len) \n",
    "                                                        # E.g.,    (128,   29,      100)      to (128,   100,      29)\n",
    "\n",
    "        features = F.elu(self.conv1d_4gram(x_embedded)) # features: (batch, num_channels, ?); e.g., (128, 100, ?)\n",
    "                                                        # activation function similar to leaky RELU(); can use F.relu() instead\n",
    "        # max/average and remove the extra dimension\n",
    "        remaining_size = features.size(dim=2)          # remaining_size: ? in (batch, num_channels, ?)\n",
    "        features_4gram = F.max_pool1d(features, remaining_size).squeeze(dim=2) # features_4gram: (batch, num_channels);kernel_size=remaining_size   \n",
    "        #features_4gram = F.avg_pool1d(features, remaining_size).squeeze(dim=2)   \n",
    "        \n",
    "        features = F.elu(self.conv1d_3gram(x_embedded)) # features: (batch, num_channels, ?); e.g., (128, 100, ?)\n",
    "        remaining_size = features.size(dim=2)          # remaining_size: ? in (batch, num_channels, ?)\n",
    "        features_3gram = F.max_pool1d(features, remaining_size).squeeze(dim=2)    # features_3gram: (batch, num_channels)\n",
    "\n",
    "        features = F.elu(self.conv1d_2gram(x_embedded)) # features: (batch, num_channels, ?); e.g., (128, 100, ?)\n",
    "        remaining_size = features.size(dim=2)          # remaining_size: ? in (batch, num_channels, ?)\n",
    "        features_2gram = F.max_pool1d(features, remaining_size).squeeze(dim=2)    # features_2gram: (batch, num_channels) \n",
    " \n",
    "        features = torch.cat([features_4gram, features_3gram, features_2gram], dim=1)\n",
    "            \n",
    "        features = F.dropout(features, p=self._dropout_p, training=self.training)\n",
    "        \n",
    "        # mlp classifier\n",
    "        intermediate_vector = F.relu(F.dropout(self.fc1(features), p=self._dropout_p, training=self.training))   \n",
    "        prediction_vector = self.fc2(intermediate_vector)  # (batch, num_classes)\n",
    "\n",
    "        if apply_softmax:\n",
    "            prediction_vector = F.softmax(prediction_vector, dim=1)\n",
    "\n",
    "        return prediction_vector"
   ]
  },
  {
   "cell_type": "markdown",
   "metadata": {},
   "source": [
    "## Training Routine"
   ]
  },
  {
   "cell_type": "markdown",
   "metadata": {},
   "source": [
    "### Helper functions"
   ]
  },
  {
   "cell_type": "code",
   "execution_count": 10,
   "metadata": {},
   "outputs": [],
   "source": [
    "def make_train_state(args):\n",
    "    return {'stop_early': False,\n",
    "            'early_stopping_step': 0,\n",
    "            'early_stopping_best_val': 1e8,\n",
    "            'learning_rate': args.learning_rate,\n",
    "            'epoch_index': 0,\n",
    "            'train_loss': [],\n",
    "            'train_acc': [],\n",
    "            'val_loss': [],\n",
    "            'val_acc': [],\n",
    "            'test_loss': -1,\n",
    "            'test_acc': -1,\n",
    "            'model_filename': args.model_state_file}\n",
    "\n",
    "def update_train_state(args, model, train_state):\n",
    "    \"\"\"Handle the training state updates.\n",
    "\n",
    "    Components:\n",
    "     - Early Stopping: Prevent overfitting.\n",
    "     - Model Checkpoint: Model is saved if the model is better\n",
    "\n",
    "    :param args: main arguments\n",
    "    :param model: model to train\n",
    "    :param train_state: a dictionary representing the training state values\n",
    "    :returns:\n",
    "        a new train_state\n",
    "    \"\"\"\n",
    "\n",
    "    # Save one model at least\n",
    "    if train_state['epoch_index'] == 0:\n",
    "        torch.save(model.state_dict(), train_state['model_filename'])\n",
    "        train_state['stop_early'] = False\n",
    "\n",
    "    # Save model if performance improved\n",
    "    elif train_state['epoch_index'] >= 1:\n",
    "        loss_tm1, loss_t = train_state['val_loss'][-2:]\n",
    "\n",
    "        # If loss worsened\n",
    "        if loss_t >= train_state['early_stopping_best_val']:\n",
    "            # Update step\n",
    "            train_state['early_stopping_step'] += 1\n",
    "        # Loss decreased\n",
    "        else:\n",
    "            # Save the best model\n",
    "            if loss_t < train_state['early_stopping_best_val']:\n",
    "                torch.save(model.state_dict(), train_state['model_filename'])\n",
    "                train_state['early_stopping_best_val'] = loss_t  # update 'early_stopping_best_val'\n",
    "\n",
    "            # Reset early stopping step\n",
    "            train_state['early_stopping_step'] = 0\n",
    "\n",
    "        # Stop early ?\n",
    "        train_state['stop_early'] = \\\n",
    "            train_state['early_stopping_step'] >= args.early_stopping_criteria\n",
    "\n",
    "    return train_state\n",
    "\n",
    "def compute_accuracy(y_pred, y_target):\n",
    "    _, y_pred_indices = y_pred.max(dim=1)\n",
    "    n_correct = torch.eq(y_pred_indices, y_target).sum().item()\n",
    "    return n_correct / len(y_pred_indices) * 100"
   ]
  },
  {
   "cell_type": "markdown",
   "metadata": {},
   "source": [
    "#### general utilities"
   ]
  },
  {
   "cell_type": "code",
   "execution_count": 11,
   "metadata": {},
   "outputs": [],
   "source": [
    "def set_seed_everywhere(seed, cuda):\n",
    "    np.random.seed(seed)\n",
    "    torch.manual_seed(seed)\n",
    "    if cuda:\n",
    "        torch.cuda.manual_seed_all(seed)\n",
    "\n",
    "def handle_dirs(dirpath):\n",
    "    if not os.path.exists(dirpath):\n",
    "        os.makedirs(dirpath)\n",
    "        \n",
    "def load_glove_from_file(glove_filepath):\n",
    "    \"\"\"\n",
    "    Load the GloVe embeddings \n",
    "    \n",
    "    Args:\n",
    "        glove_filepath (str): path to the glove embeddings file \n",
    "    Returns:\n",
    "        word_to_index (dict), embeddings (numpy.ndarary)\n",
    "    \"\"\"\n",
    "\n",
    "    word_to_index = {}\n",
    "    embeddings = []\n",
    "    with open(glove_filepath, \"r\", encoding='utf8') as fp:\n",
    "        for index, line in enumerate(fp):\n",
    "            line = line.split(\" \") # each line: word num1 num2 ...\n",
    "            word_to_index[line[0]] = index # word = line[0] \n",
    "            embedding_i = np.array([float(val) for val in line[1:]])\n",
    "            embeddings.append(embedding_i)\n",
    "#         print(embeddings)\n",
    "    return word_to_index, np.stack(embeddings)\n",
    "\n",
    "def make_embedding_matrix(glove_filepath, words):\n",
    "    \"\"\"\n",
    "    Create embedding matrix for a specific set of words.\n",
    "    \n",
    "    Args:\n",
    "        glove_filepath (str): file path to the glove embeddigns\n",
    "        words (list): list of words in the dataset\n",
    "    \"\"\"\n",
    "    word_to_idx, glove_embeddings = load_glove_from_file(glove_filepath)\n",
    "    embedding_size = glove_embeddings.shape[1]\n",
    "    \n",
    "    final_embeddings = np.zeros((len(words), embedding_size))\n",
    "\n",
    "    for i, word in enumerate(words):\n",
    "        if word in word_to_idx:\n",
    "            final_embeddings[i, :] = glove_embeddings[word_to_idx[word]]\n",
    "        else:\n",
    "            embedding_i = torch.ones(1, embedding_size)\n",
    "            torch.nn.init.xavier_uniform_(embedding_i)\n",
    "            final_embeddings[i, :] = embedding_i\n",
    "\n",
    "    return final_embeddings"
   ]
  },
  {
   "cell_type": "markdown",
   "metadata": {},
   "source": [
    "### Settings and some prep work"
   ]
  },
  {
   "cell_type": "code",
   "execution_count": 12,
   "metadata": {},
   "outputs": [],
   "source": [
    "from argparse import Namespace"
   ]
  },
  {
   "cell_type": "code",
   "execution_count": 45,
   "metadata": {},
   "outputs": [
    {
     "name": "stdout",
     "output_type": "stream",
     "text": [
      "Expanded filepaths: \n",
      "\tmodel_storage/group_project/document_classification/model.pth\n",
      "Using CUDA: False\n"
     ]
    }
   ],
   "source": [
    "args = Namespace(\n",
    "    # Data and Path hyper parameters\n",
    "    news_csv=\"data/yelp/good_bad_with_splits_full.csv\",\n",
    "    model_state_file=\"model.pth\",\n",
    "    save_dir=\"model_storage/group_project/document_classification\",\n",
    "    # Model hyper parameters\n",
    "    glove_filepath='data/glove/glove.6B.100d.txt', \n",
    "    use_glove=True,\n",
    "    embedding_size=100, \n",
    "    hidden_dim=20, \n",
    "    num_channels=100, \n",
    "    # Training hyper parameter\n",
    "    seed=1337, \n",
    "    learning_rate=0.001, \n",
    "    dropout_p=0.1, \n",
    "    batch_size=1024, \n",
    "    num_epochs=100, \n",
    "    early_stopping_criteria=5, \n",
    "    # Runtime option\n",
    "    cuda=True, \n",
    "    catch_keyboard_interrupt=True, \n",
    "    reload_from_files=False,\n",
    "    expand_filepaths_to_save_dir=True\n",
    ") \n",
    "\n",
    "if args.expand_filepaths_to_save_dir:\n",
    "    args.model_state_file = os.path.join(args.save_dir,\n",
    "                                         args.model_state_file)    \n",
    "    print(\"Expanded filepaths: \")\n",
    "    print(\"\\t{}\".format(args.model_state_file))\n",
    "    \n",
    "# Check CUDA\n",
    "if not torch.cuda.is_available():\n",
    "    args.cuda = False\n",
    "    \n",
    "args.device = torch.device(\"cuda\" if args.cuda else \"cpu\")\n",
    "print(\"Using CUDA: {}\".format(args.cuda))\n",
    "\n",
    "# Set seed for reproducibility\n",
    "set_seed_everywhere(args.seed, args.cuda)\n",
    "\n",
    "# handle dirs\n",
    "handle_dirs(args.save_dir)"
   ]
  },
  {
   "cell_type": "markdown",
   "metadata": {},
   "source": [
    "### Initializations"
   ]
  },
  {
   "cell_type": "code",
   "execution_count": 46,
   "metadata": {},
   "outputs": [],
   "source": [
    "args.use_glove = True"
   ]
  },
  {
   "cell_type": "code",
   "execution_count": 47,
   "metadata": {},
   "outputs": [
    {
     "name": "stdout",
     "output_type": "stream",
     "text": [
      "\n",
      "Using pre-trained embeddings\n"
     ]
    }
   ],
   "source": [
    "\n",
    "# create dataset and vectorizer\n",
    "dataset = NewsDataset.load_dataset_and_make_vectorizer(args.news_csv)\n",
    "vectorizer = dataset.get_vectorizer()\n",
    "print(\"\")\n",
    "# Use GloVe or randomly initialized embeddings\n",
    "if args.use_glove:\n",
    "    words = vectorizer.review_vocab._token_to_idx.keys()  # 3409 unique words\n",
    "    embeddings = make_embedding_matrix(glove_filepath=args.glove_filepath,     # embeddings: (3409, 100)\n",
    "                                       words=words)\n",
    "    print(\"Using pre-trained embeddings\")\n",
    "else:\n",
    "    print(\"Not using pre-trained embeddings\")\n",
    "    embeddings = None\n",
    "\n",
    "classifier = NewsClassifier(embedding_size=args.embedding_size,          # e.g, 100\n",
    "                            num_embeddings=len(vectorizer.review_vocab),  # e.g., 3409\n",
    "                            num_channels=args.num_channels,              # e.g., 100\n",
    "                            hidden_dim=args.hidden_dim,                  # e.g., 100\n",
    "                            num_classes=len(vectorizer.rating_vocab),  # e.g., 4\n",
    "                            dropout_p=args.dropout_p,                    # e.g., 0.1\n",
    "                            pretrained_embeddings=embeddings,\n",
    "                            padding_idx=0)"
   ]
  },
  {
   "cell_type": "code",
   "execution_count": 48,
   "metadata": {},
   "outputs": [
    {
     "name": "stdout",
     "output_type": "stream",
     "text": [
      "{'<MASK>': 0, '<UNK>': 1, '<BEGIN>': 2, '<END>': 3, 'so': 4, 'can': 5, 'chatgpt': 6, 'to': 7, 'a': 8, 'twitter': 9, 'space': 10, 'and': 11, 'email': 12, 'summary': 13, 'poem': 14, 'about': 15, 'elonmusk': 16, 'by': 17, 't': 18, 'co': 19, 'g': 20, 'he': 21, 'asking': 22, 'the': 23, 'future': 24, 'of': 25, 'cryptocurrency': 26, 'website': 27, 'openai': 28, 's': 29, 'new': 30, 'chatbot': 31, 'takes': 32, 'internet': 33, 'storm': 34, 'n': 35, 'gpt': 36, 'nlp': 37, 'i': 38, 'asked': 39, 'give': 40, 'me': 41, 'some': 42, 'ideas': 43, 'for': 44, 'movie': 45, 'where': 46, 'character': 47, 'is': 48, 'an': 49, 'could': 50, 'see': 51, 'these': 52, 'concepts': 53, 'ai': 54, 'machinelearning': 55, 'deeplearning': 56, 'us': 57, 'interview': 58, 'not': 59, 'your': 60, 'words': 61, 'dangerous': 62, 'conversations': 63, 'with': 64, 'l': 65, 'conversational': 66, 'model': 67, 'my': 68, 'entire': 69, 'in': 70, 'small': 71, 've': 72, 'been': 73, 'ni': 74, 'answer': 75, 'it': 76, 'we': 77, 'write': 78, 'tweet': 79, 'instead': 80, 'here': 81, 'you': 82, 'know': 83, 'that': 84, 'has': 85, 'applications': 86, 'from': 87, 'gaming': 88, 'social': 89, 'media': 90, 'beyond': 91, 'there': 92, 'something': 93, 'everyone': 94, 'on': 95, 'blockchain': 96, 'entirely': 97, 'produced': 98, 'via': 99, 'o': 100, 'all': 101, 'over': 102, 'computers': 103, 'are': 104, 'going': 105, 'completely': 106, 'take': 107, 'programming': 108, 'because': 109, 'they': 110, 'do': 111, 'way': 112, 'more': 113, 'than': 114, 'tools': 115, 'even': 116, 'as': 117, 'someone': 118, 'who': 119, 'doesn': 120, 'hate': 121, 'nfts': 122, 'stand': 123, 'how': 124, 'community': 125, 'web': 126, 'when': 127, 'biggest': 128, 'difference': 129, 'really': 130, 'things': 131, 'like': 132, 'rather': 133, 'crypto': 134, 'everything': 135, 'build': 136, 'plugin': 137, 'google': 138, 'million': 139, 'links': 140, 'nchatgpt': 141, 'one': 142, 'final': 143, 'figure': 144, 'out': 145, 'basic': 146, 'now': 147, 'just': 148, 'wait': 149, 'until': 150, 'answers': 151, 'using': 152, 'soon': 153, 'enough': 154, 'talking': 155, 'down': 156, 'ask': 157, 'fix': 158, 'made': 159, 'will': 160, 'job': 161, 'heard': 162, 'past': 163, 'never': 164, 'them': 165, 'always': 166, 'had': 167, 'knew': 168, 'increase': 169, 'industry': 170, 'up': 171, 'may': 172, 'change': 173, 'changes': 174, 'back': 175, 'story': 176, 'telling': 177, 'or': 178, 'actually': 179, 'two': 180, 'guys': 181, 'year': 182, 'vs': 183, 'this': 184, 'question': 185, 'correct': 186, 'nthen': 187, 'was': 188, 'day': 189, 'daysofcode': 190, 'gt': 191, 'daily': 192, 'problem': 193, 'stuck': 194, 'at': 195, 'app': 196, 'api': 197, 'learn': 198, 'solve': 199, 'today': 200, 'student': 201, 'cheating': 202, 'education': 203, 'tech': 204, 'f': 205, 'content': 206, 'generated': 207, 'other': 208, 'right': 209, 'voice': 210, 'assistants': 211, 'chatbots': 212, 'personal': 213, 'does': 214, 'broke': 215, 'wild': 216, 'why': 217, 're': 218, 'obsessed': 219, 'mind': 220, 'blowing': 221, 'q': 222, 'w': 223, 'literally': 224, 'faster': 225, 'python': 226, 'use': 227, 'then': 228, 'read': 229, 'documentation': 230, 'minute': 231, 'seems': 232, 'every': 233, 'finally': 234, 'after': 235, 'what': 236, 'both': 237, 'but': 238, 'p': 239, 'tell': 240, 'hn': 241, 'form': 242, 'react': 243, 'gave': 244, 'code': 245, 'state': 246, 'full': 247, 'along': 248, 'explanation': 249, 'yo': 250, 'explain': 251, 'old': 252, 'k': 253, 'case': 254, 'think': 255, 'light': 256, 'its': 257, 'training': 258, 'data': 259, 'present': 260, 'many': 261, 'lt': 262, 'x': 263, 'make': 264, 'probably': 265, 'got': 266, 'innovation': 267, 'strategy': 268, 'digital': 269, 'technology': 270, 'artificialintelligence': 271, 'proves': 272, 'mainstream': 273, 'only': 274, 'get': 275, 'automate': 276, 'professional': 277, 'writers': 278, 'explained': 279, 'am': 280, 'video': 281, 'overall': 282, 'm': 283, 'kinda': 284, 'late': 285, 'party': 286, 'holy': 287, 'shit': 288, 'good': 289, 'developer': 290, 'his': 291, 'c': 292, 'experimenting': 293, 'claims': 294, 'search': 295, 'absolutely': 296, 'searches': 297, 'real': 298, 'time': 299, 'looks': 300, 'into': 301, 'any': 302, 'include': 303, 'response': 304, 'tool': 305, 'cybersecurity': 306, 'security': 307, 'building': 308, 'virtual': 309, 'machine': 310, 'inside': 311, 'revolutionary': 312, 'did': 313, 'week': 314, 'nwhy': 315, 'didn': 316, 'sleep': 317, 'too': 318, 'show': 319, 'comments': 320, 'cool': 321, 'getting': 322, 'tired': 323, 'post': 324, 'comment': 325, 'have': 326, 'gone': 327, 'games': 328, 'update': 329, 'y': 330, 'questions': 331, 'long': 332, 'nme': 333, 'latest': 334, 'youtube': 335, 'food': 336, 'thought': 337, 'management': 338, 'value': 339, 'also': 340, 'product': 341, 'goal': 342, 'work': 343, 'age': 344, 'ncontinue': 345, 'js': 346, 'our': 347, 'site': 348, 'almost': 349, 'lets': 350, 'goes': 351, 'forward': 352, 'handle': 353, 'race': 354, 'reviews': 355, 'analysis': 356, 'dalle': 357, 'if': 358, 'taking': 359, 'seriously': 360, 'being': 361, 'john': 362, 'song': 363, 'text': 364, 'looking': 365, 'chat': 366, 'approach': 367, 'vc': 368, 'u': 369, 'different': 370, 'capabilities': 371, 'possible': 372, 'control': 373, 'earth': 374, 'simple': 375, 'part': 376, 'no': 377, 'she': 378, 'wrong': 379, 'man': 380, 'uses': 381, 'pay': 382, 'whole': 383, 'v': 384, 'wondering': 385, 'same': 386, 'students': 387, 'gonna': 388, 'their': 389, 'essays': 390, 'cause': 391, 'nd': 392, 'years': 393, 'currently': 394, 'trick': 395, 'said': 396, 'isn': 397, 'itself': 398, 'people': 399, 'need': 400, 'sort': 401, 'say': 402, 'thing': 403, 'hey': 404, 'tasks': 405, 'review': 406, 'white': 407, 'making': 408, 'dialogue': 409, 'based': 410, 'replace': 411, 'humans': 412, 'midjourney': 413, 'stablediffusion': 414, 'njoin': 415, 'rlyimpqw': 416, 'imagine': 417, 'hello': 418, 'definitely': 419, 'fight': 420, 'learned': 421, 'money': 422, 'aiart': 423, 'would': 424, 'destroy': 425, 'world': 426, 'matter': 427, 'trying': 428, 'truth': 429, 'don': 430, 'hear': 431, 'meeting': 432, 'users': 433, 'days': 434, 'apparently': 435, 'hard': 436, 'prompt': 437, 'provide': 438, 'outputs': 439, 'were': 440, 'well': 441, 'tested': 442, 'should': 443, 'be': 444, 'worried': 445, 'cryptocurrencies': 446, 'fintech': 447, 'nocode': 448, 'bitcoin': 449, 'metaverse': 450, 'insurtech': 451, 'trending': 452, 'medium': 453, 'beta': 454, 'want': 455, 'integrate': 456, 'most': 457, 'system': 458, 'products': 459, 'open': 460, 'defi': 461, 'message': 462, 'cases': 463, 'fake': 464, 'names': 465, 'needed': 466, 'sama': 467, 'point': 468, 'author': 469, 'without': 470, 'name': 471, 'title': 472, 'couldn': 473, 'terms': 474, 'due': 475, 'high': 476, 'demand': 477, 'short': 478, 'least': 479, 'understand': 480, 'hasn': 481, 'seen': 482, 'logic': 483, 'run': 484, 'joy': 485, 'turned': 486, 'morning': 487, 'generative': 488, 'playing': 489, 'while': 490, 'magic': 491, 'which': 492, 'queries': 493, 'functions': 494, 'infosec': 495, 'store': 496, 'copy': 497, 'else': 498, 'similar': 499, 'llm': 500, 'models': 501, 'talk': 502, 'own': 503, 'language': 504, 'computer': 505, 'human': 506, 'lives': 507, 'brought': 508, 'argument': 509, 'feels': 510, 'come': 511, 'lazy': 512, 'robot': 513, 'podcast': 514, 'h': 515, 'discord': 516, 'bot': 517, 'sure': 518, 'teaching': 519, 'teachers': 520, 'cheat': 521, 'nwe': 522, 'worry': 523, 'become': 524, 'algorithms': 525, 'best': 526, 'javascript': 527, 'learning': 528, 'music': 529, 'specifically': 530, 'beat': 531, 'force': 532, 'great': 533, 'try': 534, 'sell': 535, 'structure': 536, 'e': 537, 'creative': 538, 'experts': 539, 'knows': 540, 'lack': 541, 'purpose': 542, 'startup': 543, 'christmas': 544, 'nft': 545, 'before': 546, 'end': 547, 'hot': 548, 'culture': 549, 'next': 550, 'experience': 551, 'b': 552, 'njust': 553, 'living': 554, 'omg': 555, 'block': 556, 'ethereum': 557, 'founder': 558, 'says': 559, 'quite': 560, 'far': 561, 'replacing': 562, 'programmers': 563, 'start': 564, 'revolution': 565, 'im': 566, 'nfor': 567, 'partner': 568, 'feed': 569, 'having': 570, 'very': 571, 'slow': 572, 'customer': 573, 'service': 574, 'thinking': 575, 'couple': 576, 'nature': 577, 'examples': 578, 'errors': 579, 'mine': 580, 'screenshots': 581, 'showing': 582, 'clearly': 583, 'act': 584, 'through': 585, 'prompts': 586, 'exist': 587, 'god': 588, 'told': 589, 'much': 590, 'd': 591, 'note': 592, 'googling': 593, 'nto': 594, 'compare': 595, 'took': 596, 'netflix': 597, 'months': 598, 'instagram': 599, 'nai': 600, 'stay': 601, 'second': 602, 'll': 603, 'another': 604, 'essay': 605, 'again': 606, 'tiktok': 607, 'yet': 608, 'testing': 609, 'productivity': 610, 'ever': 611, 'look': 612, 'giving': 613, 'saying': 614, 'gets': 615, 'answered': 616, 'must': 617, 'home': 618, 'less': 619, 'llms': 620, 'seconds': 621, 'nhow': 622, 'detect': 623, 'assignments': 624, 'exams': 625, 'tried': 626, 'go': 627, 'viral': 628, 'ftx': 629, 'saas': 630, 'amp': 631, 'guess': 632, 'ways': 633, 'software': 634, 'ok': 635, 'anything': 636, 'attention': 637, 'phishing': 638, 'emails': 639, 'create': 640, 'conversation': 641, 'between': 642, 'correctly': 643, 'still': 644, 'thinks': 645, 'starting': 646, 'following': 647, 'person': 648, 'played': 649, 'recent': 650, 'generativeai': 651, 'mean': 652, 'robots': 653, 'coming': 654, 'jobs': 655, 'away': 656, 'era': 657, 'won': 658, 'set': 659, 'lyrics': 660, 'weird': 661, 'al': 662, 'dead': 663, 'let': 664, 'behind': 665, 'lead': 666, 'driven': 667, 'companies': 668, 'na': 669, 'market': 670, 'rate': 671, 'nnow': 672, 'half': 673, 'bad': 674, 'watch': 675, 'copywriting': 676, 'rt': 677, 'likely': 678, 'able': 679, 'pass': 680, 'turns': 681, 'type': 682, 'solutions': 683, 'issues': 684, 'potentially': 685, 'issue': 686, 'accurate': 687, 'result': 688, 'newsletter': 689, 'red': 690, 'business': 691, 'feeling': 692, 'meet': 693, 'powered': 694, 'talks': 695, 'hi': 696, 'hit': 697, 'moment': 698, 'posts': 699, 'caught': 700, 'feature': 701, 'level': 702, 'steps': 703, 'fact': 704, 'check': 705, 'dumb': 706, 'already': 707, 'writing': 708, 'r': 709, 'team': 710, 'tv': 711, 'source': 712, 'marketing': 713, 'top': 714, 'kill': 715, 'page': 716, 'dream': 717, 'haiku': 718, 'art': 719, 'knowledge': 720, 'wisdom': 721, 'means': 722, 'ahead': 723, 'decade': 724, 'ml': 725, 'datascience': 726, 'pre': 727, 'trained': 728, 'news': 729, 'respond': 730, 'sense': 731, 'sounding': 732, 'numbers': 733, 'j': 734, 'trends': 735, 'opens': 736, 'access': 737, 'dear': 738, 'alone': 739, 'anyone': 740, 'figured': 741, 'nthat': 742, 'game': 743, 'changer': 744, 'seem': 745, 'bar': 746, 'football': 747, 'hold': 748, 'yourself': 749, 'xrp': 750, 'better': 751, 'others': 752, 'showed': 753, 'weekend': 754, 'article': 755, 'reading': 756, 'stop': 757, 'information': 758, 'pretty': 759, 'topic': 760, 'writes': 761, 'apps': 762, 'available': 763, 'key': 764, 'iphone': 765, 'creators': 766, 'thread': 767, 'off': 768, 'script': 769, 'doing': 770, 'nothing': 771, 'design': 772, 'house': 773, 'architecture': 774, 'z': 775, 'first': 776, 'projects': 777, 'interest': 778, 'according': 779, 'became': 780, 'threat': 781, 'release': 782, 'opinion': 783, 'york': 784, 'times': 785, 'generate': 786, 'seo': 787, 'five': 788, 'eye': 789, 'opening': 790, 'predictions': 791, 'including': 792, 'ethics': 793, 'law': 794, 'style': 795, 'gm': 796, 'works': 797, 'sejournal': 798, 'breaking': 799, 'nthe': 800, 'minutes': 801, 'bigdata': 802, 'analytics': 803, 'blog': 804, 'makes': 805, 'followers': 806, 'tweets': 807, 'spent': 808, 'last': 809, 'science': 810, 'found': 811, 'nin': 812, 'war': 813, 'initial': 814, 'wanted': 815, 'features': 816, 'might': 817, 'offer': 818, 'engines': 819, 'facts': 820, 'resources': 821, 'cannot': 822, 'date': 823, 'built': 824, 'engineering': 825, 'lol': 826, 'progress': 827, 'results': 828, 'limitations': 829, 'course': 830, 'aware': 831, 'mistake': 832, 'box': 833, 'used': 834, 'speed': 835, 'such': 836, 'linkedin': 837, 'cc': 838, 'plot': 839, 'speech': 840, 'bots': 841, 'helped': 842, 'find': 843, 'bug': 844, 'coding': 845, 'history': 846, 'computing': 847, 'true': 848, 'bc': 849, 'written': 850, 'advice': 851, 'truly': 852, 'misinformation': 853, 'limited': 854, 'advent': 855, 'nand': 856, 'images': 857, 'homework': 858, 'st': 859, 'three': 860, 'benefits': 861, 'output': 862, 'though': 863, 'however': 864, 'functional': 865, 'possibilities': 866, 'live': 867, 'tips': 868, 'crazy': 869, 'advanced': 870, 'industries': 871, 'month': 872, 'feel': 873, 'field': 874, 'term': 875, 'impressed': 876, 'wasn': 877, 'december': 878, 'th': 879, 'insane': 880, 'engage': 881, 'fall': 882, 'low': 883, 'trust': 884, 'online': 885, 'child': 886, 'please': 887, 'bring': 888, 'gives': 889, 'word': 890, 'whether': 891, 'describe': 892, 'interaction': 893, 'episode': 894, 'train': 895, 'explains': 896, 'running': 897, 'reply': 898, 'left': 899, 'loop': 900, 'close': 901, 'wide': 902, 'nor': 903, 'maybe': 904, 'ripple': 905, 'conspiracy': 906, 'btc': 907, 'eth': 908, 'token': 909, 'temporarily': 910, 'banned': 911, 'stack': 912, 'overflow': 913, 'incorrect': 914, 'indeed': 915, 'assistant': 916, 'within': 917, 'chrome': 918, 'extension': 919, 'obsolete': 920, 'college': 921, 'reason': 922, 'paying': 923, 'problems': 924, 'decent': 925, 'writer': 926, 'front': 927, 'speak': 928, 'plan': 929, 'fucking': 930, 'trend': 931, 'quality': 932, 'systems': 933, 'turing': 934, 'test': 935, 'fiction': 936, 'image': 937, 'teacher': 938, 'side': 939, 'subject': 940, 'break': 941, 'letter': 942, 'officially': 943, 'blown': 944, 'bit': 945, 'nmy': 946, 'life': 947, 'since': 948, 'fun': 949, 'elon': 950, 'aren': 951, 'concerned': 952, 'big': 953, 'especially': 954, 'ago': 955, 'ngpt': 956, 'copilot': 957, 'diffusion': 958, 'videos': 959, 'nno': 960, 'checking': 961, 'yesterday': 962, 'articles': 963, 'amazon': 964, 'aws': 965, 'buy': 966, 'nlet': 967, 'openaichatgpt': 968, 'openaichat': 969, 'spot': 970, 'devs': 971, 'watching': 972, 'action': 973, 'city': 974, 'error': 975, 'themselves': 976, 'against': 977, 'agi': 978, 'impact': 979, 'require': 980, 'lot': 981, 'recently': 982, 'exactly': 983, 'ia': 984, 'nbut': 985, 'large': 986, 'nthey': 987, 'info': 988, 'nyou': 989, 'little': 990, 'nalso': 991, 'programmer': 992, 'career': 993, 'given': 994, 'domain': 995, 'linux': 996, 'humanity': 997, 'funny': 998, 'meaning': 999, 'sam': 1000, 'pm': 1001, 'stuff': 1002, 'poetry': 1003, 'nwill': 1004, 'comes': 1005, 'save': 1006, 'worse': 1007, 'happened': 1008, 'user': 1009, 'research': 1010, 'researchers': 1011, 'abilities': 1012, 'chatting': 1013, 'idea': 1014, 'wonder': 1015, 'poor': 1016, 'skills': 1017, 'created': 1018, 'songs': 1019, 'line': 1020, 'books': 1021, 'directly': 1022, 'lensa': 1023, 'total': 1024, 'educators': 1025, 'yeah': 1026, 'kind': 1027, 'company': 1028, 'provides': 1029, 'sorry': 1030, 'hype': 1031, 'healthcare': 1032, 'self': 1033, 'responses': 1034, 'wrote': 1035, 'serious': 1036, 'add': 1037, 'fuck': 1038, 'posting': 1039, 'school': 1040, 'care': 1041, 'messing': 1042, 'around': 1043, 'trump': 1044, 'saw': 1045, 'went': 1046, 'sites': 1047, 'average': 1048, 'view': 1049, 'once': 1050, 'guy': 1051, 'natural': 1052, 'scary': 1053, 'dall': 1054, 'generator': 1055, 'extremely': 1056, 'mr': 1057, 'perfect': 1058, 'example': 1059, 'bunch': 1060, 'platform': 1061, 'fast': 1062, 'book': 1063, 'nread': 1064, 'missing': 1065, 'nwho': 1066, 'during': 1067, 'academic': 1068, 'report': 1069, 'advance': 1070, 'stupid': 1071, 'ui': 1072, 'appears': 1073, 'english': 1074, 'difficult': 1075, 'specific': 1076, 'context': 1077, 'night': 1078, 'query': 1079, 'covid': 1080, 'agree': 1081, 'fan': 1082, 'major': 1083, 'actual': 1084, 'teach': 1085, 'society': 1086, 'series': 1087, 'paper': 1088, 'follow': 1089, 'rules': 1090, 'evidence': 1091, 'cloud': 1092, 'base': 1093, 'secret': 1094, 'released': 1095, 'suggestions': 1096, 'trouble': 1097, 'engine': 1098, 'recipe': 1099, 'either': 1100, 'wtf': 1101, 'automated': 1102, 'bro': 1103, 'power': 1104, 'program': 1105, 'general': 1106, 'useful': 1107, 'stackoverflow': 1108, 'few': 1109, 'realize': 1110, 'smart': 1111, 'contract': 1112, 'nthis': 1113, 'hilarious': 1114, 'input': 1115, 'totally': 1116, 'expert': 1117, 'although': 1118, 'came': 1119, 'instructions': 1120, 'needs': 1121, 'folks': 1122, 'understanding': 1123, 'tells': 1124, 'replaced': 1125, 'finding': 1126, 'machines': 1127, 'rap': 1128, 'musk': 1129, 'universe': 1130, 'happens': 1131, 'exploring': 1132, 'processing': 1133, 'master': 1134, 'working': 1135, 'function': 1136, 'list': 1137, 'points': 1138, 'film': 1139, 'tutor': 1140, 'critical': 1141, 'important': 1142, 'hands': 1143, 'started': 1144, 'project': 1145, 'help': 1146, 'nif': 1147, 'chatgtp': 1148, 'event': 1149, 'version': 1150, 'nhere': 1151, 'head': 1152, 'mins': 1153, 'creating': 1154, 'hour': 1155, 'confidently': 1156, 'description': 1157, 'ads': 1158, 'friend': 1159, 'interesting': 1160, 'potential': 1161, 'cover': 1162, 'scene': 1163, 'woke': 1164, 'feedback': 1165, 'keeps': 1166, 'multiple': 1167, 'businesses': 1168, 'done': 1169, 'forget': 1170, 'american': 1171, 'eyes': 1172, 'incredible': 1173, 'believe': 1174, 'wow': 1175, 'amazing': 1176, 'exciting': 1177, 'network': 1178, 'tip': 1179, 'wants': 1180, 'zero': 1181, 'professors': 1182, 'math': 1183, 'expect': 1184, 'certain': 1185, 'reasons': 1186, 'damn': 1187, 'joke': 1188, 'jokes': 1189, 'below': 1190, 'gptchat': 1191, 'lots': 1192, 'account': 1193, 'study': 1194, 'develop': 1195, 'win': 1196, 'certainly': 1197, 'link': 1198, 'existing': 1199, 'paid': 1200, 'headlines': 1201, 'spending': 1202, 'solving': 1203, 'those': 1204, 'complex': 1205, 'simply': 1206, 'nthanks': 1207, 'stories': 1208, 'engineer': 1209, 'concerns': 1210, 'nit': 1211, 'honestly': 1212, 'keep': 1213, 'artists': 1214, 'myself': 1215, 'sad': 1216, 'forbes': 1217, 'kids': 1218, 'technologies': 1219, 'solution': 1220, 'alternative': 1221, 'changing': 1222, 'haven': 1223, 'rn': 1224, 'sometimes': 1225, 'anymore': 1226, 'happening': 1227, 'deep': 1228, 'changed': 1229, 'room': 1230, 'scale': 1231, 'convince': 1232, 'credit': 1233, 'card': 1234, 'details': 1235, 'thoughts': 1236, 'dec': 1237, 'send': 1238, 'basically': 1239, 'assignment': 1240, 'weeks': 1241, 'prediction': 1242, 'nwhat': 1243, 'fear': 1244, 'taught': 1245, 'starts': 1246, 'creator': 1247, 'worth': 1248, 'perhaps': 1249, 'oh': 1250, 'debate': 1251, 'physical': 1252, 'affect': 1253, 'launch': 1254, 'ngoogle': 1255, 'economic': 1256, 'careful': 1257, 'remember': 1258, 'services': 1259, 'engineers': 1260, 'offers': 1261, 'later': 1262, 'sample': 1263, 'accessible': 1264, 'github': 1265, 'him': 1266, 'eventually': 1267, 'sentence': 1268, 'health': 1269, 'beginning': 1270, 'higher': 1271, 'failed': 1272, 'interested': 1273, 'focus': 1274, 'pros': 1275, 'doge': 1276, 'near': 1277, 'several': 1278, 'alexa': 1279, 'siri': 1280, 'discuss': 1281, 'rise': 1282, 'nas': 1283, 'generating': 1284, 'killer': 1285, 'lines': 1286, 'reality': 1287, 'powerful': 1288, 'ones': 1289, 'facebook': 1290, 'plagiarism': 1291, 'rust': 1292, 'various': 1293, 'sounds': 1294, 'scared': 1295, 'intelligence': 1296, 'scripts': 1297, 'malware': 1298, 'santa': 1299, 'known': 1300, 'nnot': 1301, 'paragraph': 1302, 'capacity': 1303, 'poems': 1304, 'further': 1305, 'call': 1306, 'complete': 1307, 'development': 1308, 'excited': 1309, 'terrible': 1310, 'becoming': 1311, 'nby': 1312, 'often': 1313, 'task': 1314, 'upon': 1315, 'wish': 1316, 'confident': 1317, 'insight': 1318, 'amount': 1319, 'tomorrow': 1320, 'produce': 1321, 'etc': 1322, 'medical': 1323, 'microsoft': 1324, 'edge': 1325, 'browser': 1326, 'disrupt': 1327, 'university': 1328, 'hours': 1329, 'translate': 1330, 'draft': 1331, 'technical': 1332, 'startups': 1333, 'scientific': 1334, 'bullshit': 1335, 'memory': 1336, 'breakthrough': 1337, 'worked': 1338, 'academia': 1339, 'random': 1340, 'ncheck': 1341, 'artificial': 1342, 'favorite': 1343, 'energy': 1344, 'number': 1345, 'legal': 1346, 'published': 1347, 'apple': 1348, 'surprised': 1349, 'non': 1350, 'lost': 1351, 'love': 1352, 'okay': 1353, 'deal': 1354, 'answering': 1355, 'knowing': 1356, 'sales': 1357, 'place': 1358, 'discussion': 1359, 'technological': 1360, 'helping': 1361, 'her': 1362, 'phone': 1363, 'philosophy': 1364, 'interface': 1365, 'ultimate': 1366, 'implementation': 1367, 'step': 1368, 'guide': 1369, 'neuralink': 1370, 'tesla': 1371, 'taken': 1372, 'bias': 1373, 'immediately': 1374, 'current': 1375, 'under': 1376, 'ux': 1377, 'nthere': 1378, 'called': 1379, 'inspiration': 1380, 'wikipedia': 1381, 'automation': 1382, 'endless': 1383, 'quickly': 1384, 'launched': 1385, 'buzz': 1386, 'ais': 1387, 'continues': 1388, 'designed': 1389, 'order': 1390, 'afraid': 1391, 'fine': 1392, 'happen': 1393, 'common': 1394, 'mistakes': 1395, 'single': 1396, 'personalized': 1397, 'draw': 1398, 'html': 1399, 'admit': 1400, 'discussing': 1401, 'massive': 1402, 'easy': 1403, 'languages': 1404, 'communication': 1405, 'felt': 1406, 'super': 1407, 'friends': 1408, 'policy': 1409, 'outside': 1410, 'concept': 1411, 'putting': 1412, 'suggest': 1413, 'put': 1414, 'summarize': 1415, 'timeline': 1416, 'per': 1417, 'unique': 1418, 'skill': 1419, 'noticed': 1420, 'reddit': 1421, 'impressive': 1422, 'seeing': 1423, 'century': 1424, 'boy': 1425, 'challenges': 1426, 'posted': 1427, 'previous': 1428, 'waiting': 1429, 'tonight': 1430, 'application': 1431, 'speaking': 1432, 'letters': 1433, 'sound': 1434, 'tone': 1435, 'bs': 1436, 'direction': 1437, 'developers': 1438, 'children': 1439, 'class': 1440, 'generation': 1441, 'chats': 1442, 'together': 1443, 'challenge': 1444, 'ncan': 1445, 'political': 1446, 'dev': 1447, 'incredibly': 1448, 'transform': 1449, 'capable': 1450, 'match': 1451, 'experiment': 1452, 'despite': 1453, 'longer': 1454, 'huge': 1455, 'implications': 1456, 'fascinating': 1457, 'process': 1458, 'continue': 1459, 'range': 1460, 'topics': 1461, 'produces': 1462, 'opportunities': 1463, 'price': 1464, 'growth': 1465, 'group': 1466, 'ability': 1467, 'easily': 1468, 'attempt': 1469, 'nis': 1470, 'compared': 1471, 'allows': 1472, 'nvia': 1473, 'spend': 1474, 'exam': 1475, 'solid': 1476, 'saved': 1477, 'professor': 1478, 'plans': 1479, 'curious': 1480, 'notes': 1481, 'nytimes': 1482, 'usdt': 1483, 'investment': 1484, 'technews': 1485, 'shows': 1486, 'interact': 1487, 'clear': 1488, 'yes': 1489, 'experiences': 1490, 'adventure': 1491, 'creativity': 1492, 'related': 1493, 'stable': 1494, 'turn': 1495, 'sign': 1496, 'family': 1497, 'personality': 1498, 'theory': 1499, 'rewrite': 1500, 'allow': 1501, 'reach': 1502, 'towards': 1503, 'papers': 1504, 'entertaining': 1505, 'decided': 1506, 'explaining': 1507, 'stars': 1508, 'quick': 1509, 'adding': 1510, 'requests': 1511, 'replies': 1512, 'each': 1513, 'perspective': 1514, 'whatever': 1515, 'move': 1516, 'algorithm': 1517, 'strong': 1518, 'proof': 1519, 'expected': 1520, 'limit': 1521, 'role': 1522, 'catch': 1523, 'ad': 1524, 'usage': 1525, 'promise': 1526, 'practical': 1527, 'journalists': 1528, 'fully': 1529, 'mostly': 1530, 'consider': 1531, 'imo': 1532, 'early': 1533, 'free': 1534, 'suggested': 1535, 'searching': 1536, 'ceo': 1537, 'tests': 1538, 'lmao': 1539, 'grow': 1540, 'understands': 1541, 'rest': 1542, 'convincing': 1543, 'file': 1544, 'turning': 1545, 'surprisingly': 1546, 'filled': 1547, 'giveaway': 1548, 'material': 1549, 'journey': 1550, 'risk': 1551, 'cup': 1552, 'straight': 1553, 'convinced': 1554, 'india': 1555, 'typing': 1556, 'hope': 1557, 'wouldn': 1558, 'detailed': 1559, 'snippets': 1560, 'engaging': 1561, 'reasoning': 1562, 'nopenai': 1563, 'support': 1564, 'quantum': 1565, 'techcrunch': 1566, 'miss': 1567, 'insanely': 1568, 'nobody': 1569, 'provided': 1570, 'sharing': 1571, 'public': 1572, 'kid': 1573, 'across': 1574, 'unbelievable': 1575, 'driving': 1576, 'cost': 1577, 'leverage': 1578, 'insights': 1579, 'request': 1580, 'files': 1581, 'brain': 1582, 'relevant': 1583, 'highly': 1584, 'nwith': 1585, 'airdrop': 1586, 'thank': 1587, 'threads': 1588, 'references': 1589, 'java': 1590, 'safe': 1591, 'programs': 1592, 'traditional': 1593, 'forever': 1594, 'added': 1595, 'reinforcement': 1596, 'piece': 1597, 'season': 1598, 'messi': 1599, 'modern': 1600, 'none': 1601, 'financial': 1602, 'awesome': 1603, 'sources': 1604, 'accuracy': 1605, 'significant': 1606, 'performance': 1607, 'everybody': 1608, 'easier': 1609, 'revolutionize': 1610, 'developed': 1611, 'share': 1612, 'novel': 1613, 'smarter': 1614, 'dr': 1615, 'special': 1616, 'format': 1617, 'pieces': 1618, 'happy': 1619, 'join': 1620, 'safety': 1621, 'excitement': 1622, 'glad': 1623, 'fusion': 1624, 'confidence': 1625, 'thanks': 1626, 'becomes': 1627, 'nso': 1628, 'saving': 1629, 'received': 1630, 'play': 1631, 'creates': 1632, 'surprise': 1633, 'fit': 1634, 'shared': 1635, 'nice': 1636, 'named': 1637, 'clever': 1638, 'characters': 1639, 'honest': 1640, 'excel': 1641, 'welcome': 1642, 'creation': 1643, 'participating': 1644, 'chess': 1645, 'popular': 1646, 'enjoy': 1647, 'discovered': 1648, 'excellent': 1649, 'paste': 1650, 'original': 1651, 'chance': 1652, 'improve': 1653, 'calm': 1654, 'remarkable': 1655, 'ethical': 1656, 'activity': 1657, 'intelligent': 1658, 'efficient': 1659, 'ready': 1660, 'aigc': 1661, 'hand': 1662, 'success': 1663, 'alive': 1664, 'dark': 1665, 'embrace': 1666, 'generic': 1667, 'explore': 1668, 'positive': 1669, 'campaign': 1670, 'helps': 1671, 'amazed': 1672, 'bright': 1673, 'holidays': 1674, 'rich': 1675, 'successful': 1676, 'luck': 1677, 'sophisticated': 1678, 'holiday': 1679, 'valuable': 1680, 'friendly': 1681, 'opportunity': 1682, 'providing': 1683, 'recommend': 1684, 'inspired': 1685, 'improvement': 1686, 'effectively': 1687, 'gift': 1688, 'helpful': 1689, 'perfectly': 1690, 'loves': 1691, 'wonderful': 1692, 'greatest': 1693, 'popularity': 1694, 'gain': 1695, 'fantastic': 1696, 'effective': 1697, 'blogengage': 1698, 'pisces': 1699, 'freemint': 1700, 'piscesbaishui': 1701, 'loving': 1702, 'beautiful': 1703, 'brilliant': 1704, 'improving': 1705}\n"
     ]
    }
   ],
   "source": [
    "print(vectorizer.review_vocab._token_to_idx)"
   ]
  },
  {
   "cell_type": "code",
   "execution_count": 49,
   "metadata": {},
   "outputs": [
    {
     "name": "stdout",
     "output_type": "stream",
     "text": [
      "{'bad': 0, 'good': 1}\n"
     ]
    }
   ],
   "source": [
    "print(vectorizer.rating_vocab._token_to_idx)"
   ]
  },
  {
   "cell_type": "code",
   "execution_count": 50,
   "metadata": {},
   "outputs": [
    {
     "data": {
      "text/plain": [
       "91"
      ]
     },
     "execution_count": 50,
     "metadata": {},
     "output_type": "execute_result"
    }
   ],
   "source": [
    "dataset._max_seq_length"
   ]
  },
  {
   "cell_type": "markdown",
   "metadata": {},
   "source": [
    "### Training loop"
   ]
  },
  {
   "cell_type": "code",
   "execution_count": 51,
   "metadata": {},
   "outputs": [
    {
     "data": {
      "application/vnd.jupyter.widget-view+json": {
       "model_id": "c5425f96d0264fec9fb99fd0058cfb49",
       "version_major": 2,
       "version_minor": 0
      },
      "text/plain": [
       "training routine:   0%|          | 0/100 [00:00<?, ?it/s]"
      ]
     },
     "metadata": {},
     "output_type": "display_data"
    },
    {
     "data": {
      "application/vnd.jupyter.widget-view+json": {
       "model_id": "169724792393460fbebad2446253f81c",
       "version_major": 2,
       "version_minor": 0
      },
      "text/plain": [
       "split=train:   0%|          | 0/19 [00:00<?, ?it/s]"
      ]
     },
     "metadata": {},
     "output_type": "display_data"
    },
    {
     "data": {
      "application/vnd.jupyter.widget-view+json": {
       "model_id": "bd4f21df674e437a8e0f34bd134a451d",
       "version_major": 2,
       "version_minor": 0
      },
      "text/plain": [
       "split=val:   0%|          | 0/8 [00:00<?, ?it/s]"
      ]
     },
     "metadata": {},
     "output_type": "display_data"
    }
   ],
   "source": [
    "classifier = classifier.to(args.device)\n",
    "dataset.class_weights = dataset.class_weights.to(args.device)\n",
    "    \n",
    "loss_func = nn.CrossEntropyLoss(dataset.class_weights)\n",
    "optimizer = optim.Adam(classifier.parameters(), lr=args.learning_rate)\n",
    "scheduler = optim.lr_scheduler.ReduceLROnPlateau(optimizer=optimizer, mode='min', factor=0.5, patience=1)\n",
    "\n",
    "train_state = make_train_state(args)\n",
    "\n",
    "epoch_bar = tqdm(desc='training routine', total=args.num_epochs, position=0)\n",
    "\n",
    "dataset.set_split('train')\n",
    "train_bar = tqdm(desc='split=train', total=dataset.get_num_batches(args.batch_size), position=1, leave=True)\n",
    "\n",
    "dataset.set_split('val')\n",
    "val_bar = tqdm(desc='split=val', total=dataset.get_num_batches(args.batch_size), position=1, leave=True)\n",
    "\n",
    "try:\n",
    "    for epoch_index in range(args.num_epochs):\n",
    "        train_state['epoch_index'] = epoch_index\n",
    "\n",
    "        # Iterate over training dataset\n",
    "\n",
    "        # setup: batch generator, set loss and acc to 0, set train mode on\n",
    "\n",
    "        dataset.set_split('train')\n",
    "        batch_generator = generate_batches(dataset, \n",
    "                                           batch_size=args.batch_size, \n",
    "                                           device=args.device)\n",
    "        running_loss = 0.0\n",
    "        running_acc = 0.0\n",
    "        classifier.train()\n",
    "\n",
    "        for batch_index, batch_dict in enumerate(batch_generator):\n",
    "            # the training routine is these 5 steps:\n",
    "\n",
    "            # --------------------------------------\n",
    "            # step 1. zero the gradients\n",
    "            optimizer.zero_grad()\n",
    "\n",
    "            # step 2. compute the output\n",
    "            y_pred = classifier(batch_dict['x_data']) # (batch, seq_len) -> (batch, num_classes)\n",
    "\n",
    "            # step 3. compute the loss\n",
    "            loss = loss_func(y_pred, batch_dict['y_target'])\n",
    "            loss_t = loss.item()\n",
    "            running_loss += (loss_t - running_loss) / (batch_index + 1)\n",
    "\n",
    "            # step 4. use loss to produce gradients\n",
    "            loss.backward()\n",
    "\n",
    "            # step 5. use optimizer to take gradient step\n",
    "            optimizer.step()\n",
    "            # -----------------------------------------\n",
    "            # compute the accuracy\n",
    "            acc_t = compute_accuracy(y_pred, batch_dict['y_target'])\n",
    "            running_acc += (acc_t - running_acc) / (batch_index + 1)\n",
    "\n",
    "            # update bar\n",
    "            train_bar.set_postfix(loss=running_loss, acc=running_acc, \n",
    "                                  epoch=epoch_index)\n",
    "            train_bar.update()\n",
    "\n",
    "        train_state['train_loss'].append(running_loss)\n",
    "        train_state['train_acc'].append(running_acc)\n",
    "\n",
    "        # Iterate over val dataset\n",
    "\n",
    "        # setup: batch generator, set loss and acc to 0; set eval mode on\n",
    "        dataset.set_split('val')\n",
    "        batch_generator = generate_batches(dataset, \n",
    "                                           batch_size=args.batch_size, \n",
    "                                           device=args.device)\n",
    "        running_loss = 0.\n",
    "        running_acc = 0.\n",
    "        classifier.eval()\n",
    "\n",
    "        for batch_index, batch_dict in enumerate(batch_generator):\n",
    "\n",
    "            # compute the output\n",
    "            y_pred =  classifier(batch_dict['x_data'])\n",
    "\n",
    "            # step 3. compute the loss\n",
    "            loss = loss_func(y_pred, batch_dict['y_target'])\n",
    "            loss_t = loss.item()\n",
    "            running_loss += (loss_t - running_loss) / (batch_index + 1)\n",
    "\n",
    "            # compute the accuracy\n",
    "            acc_t = compute_accuracy(y_pred, batch_dict['y_target'])\n",
    "            running_acc += (acc_t - running_acc) / (batch_index + 1)\n",
    "            val_bar.set_postfix(loss=running_loss, acc=running_acc, \n",
    "                            epoch=epoch_index)\n",
    "            val_bar.update()\n",
    "\n",
    "        train_state['val_loss'].append(running_loss)\n",
    "        train_state['val_acc'].append(running_acc)\n",
    "\n",
    "        train_state = update_train_state(args=args, model=classifier,\n",
    "                                         train_state=train_state)\n",
    "\n",
    "        scheduler.step(train_state['val_loss'][-1])\n",
    "\n",
    "        if train_state['stop_early']:\n",
    "            break\n",
    "\n",
    "        train_bar.n = 0\n",
    "        val_bar.n = 0\n",
    "        epoch_bar.update()\n",
    "except KeyboardInterrupt:\n",
    "    print(\"Exiting loop\")\n",
    "\n"
   ]
  },
  {
   "cell_type": "code",
   "execution_count": 52,
   "metadata": {},
   "outputs": [
    {
     "data": {
      "image/png": "[encoded data removed]",
      "text/plain": [
       "<Figure size 432x288 with 1 Axes>"
      ]
     },
     "metadata": {
      "needs_background": "light"
     },
     "output_type": "display_data"
    }
   ],
   "source": [
    "%matplotlib inline\n",
    "import matplotlib.pyplot as plt\n",
    "\n",
    "acc = train_state['train_acc']\n",
    "val_acc = train_state['val_acc']\n",
    "loss = train_state['train_loss']\n",
    "val_loss = train_state['val_loss']\n",
    "\n",
    "epochs = range(1, len(acc) + 1)\n",
    "\n",
    "# \"bo\" is for \"blue dot\"\n",
    "plt.plot(epochs, loss, 'bo', label='Training loss')\n",
    "# b is for \"solid blue line\"\n",
    "plt.plot(epochs, val_loss, 'b', label='Validation loss')\n",
    "plt.title('Training and validation loss')\n",
    "plt.xlabel('Epochs')\n",
    "plt.ylabel('Loss')\n",
    "plt.legend()\n",
    "\n",
    "plt.show()"
   ]
  },
  {
   "cell_type": "code",
   "execution_count": 53,
   "metadata": {},
   "outputs": [
    {
     "data": {
      "image/png": "[encoded data removed]",
      "text/plain": [
       "<Figure size 432x288 with 1 Axes>"
      ]
     },
     "metadata": {
      "needs_background": "light"
     },
     "output_type": "display_data"
    }
   ],
   "source": [
    "plt.clf()   # clear figure\n",
    "\n",
    "plt.plot(epochs, acc, 'bo', label='Training acc')\n",
    "plt.plot(epochs, val_acc, 'b', label='Validation acc')\n",
    "plt.title('Training and validation accuracy')\n",
    "plt.xlabel('Epochs')\n",
    "plt.ylabel('Accuracy')\n",
    "plt.legend()\n",
    "\n",
    "plt.show()"
   ]
  },
  {
   "cell_type": "code",
   "execution_count": 54,
   "metadata": {},
   "outputs": [],
   "source": [
    "# compute the loss & accuracy on the test set using the best available model\n",
    "\n",
    "classifier.load_state_dict(torch.load(train_state['model_filename']))\n",
    "\n",
    "classifier = classifier.to(args.device)\n",
    "dataset.class_weights = dataset.class_weights.to(args.device)\n",
    "loss_func = nn.CrossEntropyLoss(dataset.class_weights)\n",
    "\n",
    "dataset.set_split('test')\n",
    "batch_generator = generate_batches(dataset, \n",
    "                                   batch_size=args.batch_size, \n",
    "                                   device=args.device)\n",
    "running_loss = 0.\n",
    "running_acc = 0.\n",
    "classifier.eval()\n",
    "\n",
    "# y_pred_list = []    # store predicted values for confusion matrix\n",
    "# y_target_list = []  # ground truth value\n",
    "\n",
    "for batch_index, batch_dict in enumerate(batch_generator):\n",
    "    # compute the output\n",
    "    y_pred =  classifier(batch_dict['x_data'])\n",
    "    \n",
    "     # store predicted values and ground truth values for calculating confusion matrix\n",
    "#     y_pred_list.extend((y_pred>0.5).cpu().long().numpy())      # E.g., [128] -> [1, 0, 1, 0, 0, .......]\n",
    "#     y_target_list.extend(batch_dict['y_target'].cpu().numpy()) # E.g., [128] -> [1, 0, 0, 0, 1, .......]\n",
    "    \n",
    "    \n",
    "    # compute the loss\n",
    "    loss = loss_func(y_pred, batch_dict['y_target'])\n",
    "    loss_t = loss.item()\n",
    "    running_loss += (loss_t - running_loss) / (batch_index + 1)\n",
    "\n",
    "    # compute the accuracy\n",
    "    acc_t = compute_accuracy(y_pred, batch_dict['y_target'])\n",
    "    running_acc += (acc_t - running_acc) / (batch_index + 1)\n",
    "\n",
    "# print(y_target_list)\n",
    "train_state['test_loss'] = running_loss\n",
    "train_state['test_acc'] = running_acc\n",
    "\n"
   ]
  },
  {
   "cell_type": "code",
   "execution_count": 55,
   "metadata": {},
   "outputs": [
    {
     "name": "stdout",
     "output_type": "stream",
     "text": [
      "Test loss: 0.24359850856390866;\n",
      "Test Accuracy: 91.3973721590909\n"
     ]
    }
   ],
   "source": [
    "print(\"Test loss: {};\".format(train_state['test_loss']))\n",
    "print(\"Test Accuracy: {}\".format(train_state['test_acc']))"
   ]
  },
  {
   "cell_type": "code",
   "execution_count": 56,
   "metadata": {},
   "outputs": [
    {
     "name": "stdout",
     "output_type": "stream",
     "text": [
      "['bad', 'good']\n"
     ]
    }
   ],
   "source": [
    "rating_classes = []\n",
    "for i in range(len(dataset._vectorizer.rating_vocab)):\n",
    "    rating_classes.append(dataset._vectorizer.rating_vocab.lookup_index(i))\n",
    "print(rating_classes)"
   ]
  },
  {
   "cell_type": "markdown",
   "metadata": {},
   "source": [
    "### Inference"
   ]
  },
  {
   "cell_type": "code",
   "execution_count": 57,
   "metadata": {},
   "outputs": [],
   "source": [
    "# Preprocess the reviews\n",
    "def preprocess_text(text):\n",
    "    text = ' '.join(word.lower() for word in text.split(\" \"))\n",
    "    text = re.sub(r\"([.,!?])\", r\" \\1 \", text)\n",
    "    text = re.sub(r\"[^a-zA-Z.,!?]+\", r\" \", text)\n",
    "    return text"
   ]
  },
  {
   "cell_type": "code",
   "execution_count": 58,
   "metadata": {},
   "outputs": [],
   "source": [
    "def predict_rating(review, classifier, vectorizer, max_length):\n",
    "    \"\"\"Predict a News rating for a new review\n",
    "    \n",
    "    Args:\n",
    "        review (str): a raw review string\n",
    "        classifier (NewsClassifier): an instance of the trained classifier\n",
    "        vectorizer (NewsVectorizer): the corresponding vectorizer\n",
    "        max_length (int): the max sequence length\n",
    "            Note: CNNs are sensitive to the input data tensor size. \n",
    "                  This ensures to keep it the same size as the training data\n",
    "    \"\"\"\n",
    "    review = preprocess_text(review)\n",
    "    vectorized_review = \\\n",
    "        torch.tensor(vectorizer.vectorize(review, vector_length=max_length))\n",
    "    result = classifier(vectorized_review.unsqueeze(0), apply_softmax=True)\n",
    "    probability_values, indices = result.max(dim=1)\n",
    "    predicted_rating = vectorizer.rating_vocab.lookup_index(indices.item())\n",
    "\n",
    "    return {'rating': predicted_rating, \n",
    "            'probability': probability_values.item()}"
   ]
  },
  {
   "cell_type": "code",
   "execution_count": 59,
   "metadata": {},
   "outputs": [],
   "source": [
    "def get_samples():\n",
    "    samples = {}\n",
    "    for cat in dataset.val_df.labels.unique():\n",
    "        samples[cat] = dataset.val_df.review[dataset.val_df.labels==cat].tolist()[:5]\n",
    "    return samples\n",
    "\n",
    "val_samples = get_samples()"
   ]
  },
  {
   "cell_type": "code",
   "execution_count": 60,
   "metadata": {},
   "outputs": [
    {
     "name": "stdout",
     "output_type": "stream",
     "text": [
      "True Rating: bad\n",
      "==============================\n",
      "Prediction: bad (p=0.98)\n",
      "\t + Sample: i read so much about chatgpt  but what do people think about this n na shrimp s heart is in his head  \n",
      "Prediction: bad (p=0.97)\n",
      "\t + Sample: is chatgpt moving toward the median voter   t  co kjmkmpjibk\n",
      "Prediction: good (p=0.75)\n",
      "\t + Sample: the gell mann amnesia effect reveals one of the worries with a generative model like chatgpt  \n",
      "Prediction: bad (p=1.00)\n",
      "\t + Sample: ai generated answers temporarily banned on coding q amp a site stack overflow  t  co cxdwtioncn via verge\n",
      "Prediction: bad (p=1.00)\n",
      "\t + Sample: how long until chatgpt becomes politically biased  \n",
      "------------------------------\n",
      "\n",
      "True Rating: good\n",
      "==============================\n",
      "Prediction: good (p=0.92)\n",
      "\t + Sample: the chatgpt chatbot from openai is amazing  creative  and totally wrong  t  co avr n mm n\n",
      "Prediction: good (p=0.66)\n",
      "\t + Sample: congrats to all the year s in australia you are last group to do c school  chatgpt will accelerate change in education forever  a new era of more creative amp personalised learning where students show what they know amp can do is here learningcreates arcmelbourne  t  co xhcbdyyk \n",
      "Prediction: good (p=0.86)\n",
      "\t + Sample: tokengating apis is gonna be a thing  n nwhat we admire today  chatgpt  will be as common as aws or gclould soon  it will need a business model  n nboth is what trentmc and brucepon created oceanprotocol  n nthe new web will need a better business model  ocean is this  n n ai data\n",
      "Prediction: good (p=0.99)\n",
      "\t + Sample:  movies entertainment chatgpt see a movie completely written and directed by the world s most popular ai a group of filmmakers used chatgpt to write and direct safe zone  a short minute film  that is the first of its kind and a potential harbinger  t  co mol z olwv\n",
      "Prediction: good (p=0.97)\n",
      "\t + Sample: oh my god chatgpt is fucking amazing\n",
      "------------------------------\n",
      "\n"
     ]
    }
   ],
   "source": [
    "#review = input(\"Enter a news review to classify: \")\n",
    "classifier = classifier.to(\"cpu\")\n",
    "\n",
    "for truth, sample_group in val_samples.items():\n",
    "    print(f\"True Rating: {truth}\")\n",
    "    print(\"=\"*30)\n",
    "    for sample in sample_group:\n",
    "        prediction = predict_rating(sample, classifier, \n",
    "                                      vectorizer, dataset._max_seq_length + 1)\n",
    "        print(\"Prediction: {} (p={:0.2f})\".format(prediction['rating'],\n",
    "                                                  prediction['probability']))\n",
    "        print(\"\\t + Sample: {}\".format(sample))\n",
    "    print(\"-\"*30 + \"\\n\")\n",
    "    \n"
   ]
  },
  {
   "cell_type": "code",
   "execution_count": 63,
   "metadata": {},
   "outputs": [
    {
     "name": "stdout",
     "output_type": "stream",
     "text": [
      "chatgpt is pretty cool -> {'rating': 'good', 'probability': 0.9752225875854492}\n",
      "chatgpt provide amazing answer -> {'rating': 'good', 'probability': 0.9954146146774292}\n",
      "giveaway from chatgpt is impressive -> {'rating': 'good', 'probability': 0.9836554527282715}\n",
      "chatgpt is helpful -> {'rating': 'good', 'probability': 0.9768058061599731}\n",
      "\n",
      "\n",
      "chatgpt is useless -> {'rating': 'bad', 'probability': 0.995354175567627}\n",
      "chatgpt is scary -> {'rating': 'bad', 'probability': 0.9989468455314636}\n",
      "the response time for chatpgt is long -> {'rating': 'bad', 'probability': 0.9905423521995544}\n",
      "chatgpt is awful -> {'rating': 'bad', 'probability': 0.995354175567627}\n"
     ]
    }
   ],
   "source": [
    "test_review = \"chatgpt is pretty cool\"\n",
    "review = 'chatgpt provide amazing answer'\n",
    "review3 = 'giveaway from chatgpt is impressive'\n",
    "review5 = 'chatgpt is helpful'\n",
    "\n",
    "test_review2 = \"chatgpt is useless\"\n",
    "review2 = 'chatgpt is scary'\n",
    "review4 = 'the response time for chatpgt is long'\n",
    "review6= 'chatgpt is awful'\n",
    "\n",
    "prediction = predict_rating(test_review, classifier, vectorizer, dataset._max_seq_length + 1)\n",
    "print(\"{} -> {}\".format(test_review, prediction))\n",
    "prediction = predict_rating(review, classifier, vectorizer, dataset._max_seq_length + 1)\n",
    "print(\"{} -> {}\".format(review, prediction))\n",
    "prediction = predict_rating(review3, classifier, vectorizer, dataset._max_seq_length + 1)\n",
    "print(\"{} -> {}\".format(review3, prediction))\n",
    "prediction = predict_rating(review5, classifier, vectorizer, dataset._max_seq_length + 1)\n",
    "print(\"{} -> {}\".format(review5, prediction))\n",
    "\n",
    "print('\\n')\n",
    "\n",
    "prediction = predict_rating(test_review2, classifier, vectorizer, dataset._max_seq_length + 1)\n",
    "print(\"{} -> {}\".format(test_review2, prediction))\n",
    "prediction = predict_rating(review2, classifier, vectorizer, dataset._max_seq_length + 1)\n",
    "print(\"{} -> {}\".format(review2, prediction))\n",
    "prediction = predict_rating(review4, classifier, vectorizer, dataset._max_seq_length + 1)\n",
    "print(\"{} -> {}\".format(review4, prediction))\n",
    "prediction = predict_rating(review6, classifier, vectorizer, dataset._max_seq_length + 1)\n",
    "print(\"{} -> {}\".format(review6, prediction))"
   ]
  },
  {
   "cell_type": "code",
   "execution_count": null,
   "metadata": {},
   "outputs": [],
   "source": []
  },
  {
   "cell_type": "code",
   "execution_count": null,
   "metadata": {},
   "outputs": [],
   "source": []
  },
  {
   "cell_type": "code",
   "execution_count": null,
   "metadata": {},
   "outputs": [],
   "source": []
  },
  {
   "cell_type": "code",
   "execution_count": null,
   "metadata": {},
   "outputs": [],
   "source": []
  },
  {
   "cell_type": "code",
   "execution_count": null,
   "metadata": {},
   "outputs": [],
   "source": []
  },
  {
   "cell_type": "code",
   "execution_count": null,
   "metadata": {},
   "outputs": [],
   "source": []
  }
 ],
 "metadata": {
  "kernelspec": {
   "display_name": "Python 3",
   "language": "python",
   "name": "python3"
  },
  "language_info": {
   "codemirror_mode": {
    "name": "ipython",
    "version": 3
   },
   "file_extension": ".py",
   "mimetype": "text/x-python",
   "name": "python",
   "nbconvert_exporter": "python",
   "pygments_lexer": "ipython3",
   "version": "3.7.2"
  }
 },
 "nbformat": 4,
 "nbformat_minor": 2
}
